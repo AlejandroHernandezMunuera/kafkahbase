{
 "cells": [
  {
   "cell_type": "code",
   "execution_count": 1,
   "metadata": {},
   "outputs": [],
   "source": [
    "#local files(same folder)\n",
    "from docker.vars.hbasevar import *\n",
    "#Access outside docker\n",
    "hbHost= '127.0.0.1'\n",
    "\n",
    "#python libraries\n",
    "import ipywidgets as widgets\n",
    "from IPython.display import clear_output\n",
    "import happybase as hb\n",
    "\n"
   ]
  },
  {
   "cell_type": "code",
   "execution_count": 2,
   "metadata": {},
   "outputs": [],
   "source": [
    "#Front-end design\n",
    "a=widgets.Text(\n",
    "    placeholder='Please type word to search',\n",
    "    description='Word:',\n",
    "    disabled=False\n",
    ")\n",
    "\n",
    "button=widgets.Button(\n",
    "    description='Submit Word',\n",
    "    disabled=False,\n",
    "    button_style='info',\n",
    "    tooltip='When clicking this button you can see the results of the search',\n",
    "    icon='check'\n",
    ")"
   ]
  },
  {
   "cell_type": "code",
   "execution_count": 3,
   "metadata": {},
   "outputs": [],
   "source": [
    "subjectQ = True\n",
    "\n",
    "#Function to query hbase\n",
    "def consultTable(event):\n",
    "    clear_output()\n",
    "    display(a)\n",
    "    display(button)\n",
    "    #Check empty word\n",
    "    if a.value == \"\":\n",
    "        print(\"Please type word to search\")\n",
    "    else:\n",
    "        #TODO: Check HBase connection\n",
    "        #TODO: Check if HBase table/columns exist\n",
    "        #Create connection, send query\n",
    "        conn = hb.Connection(hbHost,hbPort)\n",
    "        \n",
    "        if subjectQ:\n",
    "            #Subject query\n",
    "            hbaseFilter = \"SingleColumnValueFilter ('metadata','subject',=,'substring:{}')\".format(a.value)\n",
    "            results=conn.table(hbTableName).scan(columns=[b'metadata:subject',b'metadata:label']\n",
    "                                                 , filter=hbaseFilter)\n",
    "            #Print results\n",
    "            for key, data in results:\n",
    "                print('File: ' + key.decode('utf-8'))\n",
    "                print('')\n",
    "                print('    Subject: ' + data[b'metadata:subject'].decode('utf-8') )\n",
    "                print('    Label: ' + data[b'metadata:label'].decode('utf-8'))\n",
    "                print('')\n",
    "                print('')\n",
    "        \n",
    "        else:\n",
    "            \n",
    "            #Content and metadata query\n",
    "            hbaseCFilter = \"(SingleColumnValueFilter ('content','raw',=,'substring:{}'))\".format(a.value)\n",
    "            hbaseMFilter = \"(SingleColumnValueFilter ('metadata','raw',=,'substring:{}'))\".format(a.value)\n",
    "            hbaseCMFilter = hbaseCFilter + \" OR \" + hbaseMFilter\n",
    "            results=conn.table(hbTableName).scan(columns=[b'content:raw',b'metadata:raw',b'metadata:label']\n",
    "                                                 , filter=hbaseCMFilter)\n",
    "            #Print results\n",
    "            for key, data in results:\n",
    "                print('File: ' + key.decode('utf-8'))\n",
    "                print('')\n",
    "                print('    Metadata: ' + data[b'metadata:raw'].decode('utf-8') )\n",
    "                print('')\n",
    "                print('    Content: ' + data[b'content:raw'].decode('utf-8') )\n",
    "                print('')\n",
    "                print('    Label: ' + data[b'metadata:label'].decode('utf-8'))\n",
    "                print('')\n",
    "                print('')\n",
    "            \n",
    "        #Close connection\n",
    "        conn.close()\n",
    "\n",
    "#link button to hbase function\n",
    "button.on_click(consultTable)"
   ]
  },
  {
   "cell_type": "code",
   "execution_count": 4,
   "metadata": {},
   "outputs": [
    {
     "data": {
      "application/vnd.jupyter.widget-view+json": {
       "model_id": "149b83c8e5b047c6ac0f5ba0434e315a",
       "version_major": 2,
       "version_minor": 0
      },
      "text/plain": [
       "Text(value='Trading', description='Word:', placeholder='Please type word to search')"
      ]
     },
     "metadata": {},
     "output_type": "display_data"
    },
    {
     "data": {
      "application/vnd.jupyter.widget-view+json": {
       "model_id": "2c41dccabd574ff48e893881c3429809",
       "version_major": 2,
       "version_minor": 0
      },
      "text/plain": [
       "Button(button_style='info', description='Submit Word', icon='check', style=ButtonStyle(), tooltip='When clicki…"
      ]
     },
     "metadata": {},
     "output_type": "display_data"
    },
    {
     "name": "stdout",
     "output_type": "stream",
     "text": [
      "File: Data/SPAM/BG/2004/09/1096397598.6542_208.txt\n",
      "\n",
      "    Subject: Re:ftfwj,PennySt0ck Trading Report\n",
      "    Label: SPAM\n",
      "\n",
      "\n"
     ]
    }
   ],
   "source": [
    "#Display\n",
    "display(a)\n",
    "display(button)"
   ]
  },
  {
   "cell_type": "code",
   "execution_count": null,
   "metadata": {},
   "outputs": [],
   "source": []
  }
 ],
 "metadata": {
  "kernelspec": {
   "display_name": "Python 3",
   "language": "python",
   "name": "python3"
  },
  "language_info": {
   "codemirror_mode": {
    "name": "ipython",
    "version": 3
   },
   "file_extension": ".py",
   "mimetype": "text/x-python",
   "name": "python",
   "nbconvert_exporter": "python",
   "pygments_lexer": "ipython3",
   "version": "3.7.4"
  }
 },
 "nbformat": 4,
 "nbformat_minor": 2
}
